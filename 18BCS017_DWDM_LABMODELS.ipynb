{
 "cells": [
  {
   "cell_type": "markdown",
   "metadata": {},
   "source": [
    "1.Download a suitable dataset for classification from any Repository. List the attributes and its type.\n"
   ]
  },
  {
   "cell_type": "code",
   "execution_count": 1,
   "metadata": {},
   "outputs": [],
   "source": [
    "import pandas as pd\n",
    "import numpy as np\n",
    "import seaborn as sns\n",
    "import matplotlib.pyplot as plt\n",
    "%matplotlib inline"
   ]
  },
  {
   "cell_type": "code",
   "execution_count": 2,
   "metadata": {},
   "outputs": [],
   "source": [
    "df=pd.read_csv('country_vaccinations.csv')"
   ]
  },
  {
   "cell_type": "code",
   "execution_count": 3,
   "metadata": {},
   "outputs": [
    {
     "data": {
      "text/plain": [
       "country                                 object\n",
       "iso_code                                object\n",
       "date                                    object\n",
       "total_vaccinations                     float64\n",
       "people_vaccinated                      float64\n",
       "people_fully_vaccinated                float64\n",
       "daily_vaccinations_raw                 float64\n",
       "daily_vaccinations                     float64\n",
       "total_vaccinations_per_hundred         float64\n",
       "people_vaccinated_per_hundred          float64\n",
       "people_fully_vaccinated_per_hundred    float64\n",
       "daily_vaccinations_per_million         float64\n",
       "vaccines                                object\n",
       "source_name                             object\n",
       "source_website                          object\n",
       "dtype: object"
      ]
     },
     "execution_count": 3,
     "metadata": {},
     "output_type": "execute_result"
    }
   ],
   "source": [
    "df.dtypes"
   ]
  },
  {
   "cell_type": "code",
   "execution_count": 4,
   "metadata": {},
   "outputs": [
    {
     "data": {
      "text/html": [
       "<div>\n",
       "<style scoped>\n",
       "    .dataframe tbody tr th:only-of-type {\n",
       "        vertical-align: middle;\n",
       "    }\n",
       "\n",
       "    .dataframe tbody tr th {\n",
       "        vertical-align: top;\n",
       "    }\n",
       "\n",
       "    .dataframe thead th {\n",
       "        text-align: right;\n",
       "    }\n",
       "</style>\n",
       "<table border=\"1\" class=\"dataframe\">\n",
       "  <thead>\n",
       "    <tr style=\"text-align: right;\">\n",
       "      <th></th>\n",
       "      <th>total_vaccinations</th>\n",
       "      <th>people_vaccinated</th>\n",
       "      <th>people_fully_vaccinated</th>\n",
       "      <th>daily_vaccinations_raw</th>\n",
       "      <th>daily_vaccinations</th>\n",
       "      <th>total_vaccinations_per_hundred</th>\n",
       "      <th>people_vaccinated_per_hundred</th>\n",
       "      <th>people_fully_vaccinated_per_hundred</th>\n",
       "      <th>daily_vaccinations_per_million</th>\n",
       "    </tr>\n",
       "  </thead>\n",
       "  <tbody>\n",
       "    <tr>\n",
       "      <th>count</th>\n",
       "      <td>6.269000e+03</td>\n",
       "      <td>5.694000e+03</td>\n",
       "      <td>3.979000e+03</td>\n",
       "      <td>5.236000e+03</td>\n",
       "      <td>1.022200e+04</td>\n",
       "      <td>6269.000000</td>\n",
       "      <td>5694.000000</td>\n",
       "      <td>3979.000000</td>\n",
       "      <td>10222.000000</td>\n",
       "    </tr>\n",
       "    <tr>\n",
       "      <th>mean</th>\n",
       "      <td>3.442607e+06</td>\n",
       "      <td>2.468040e+06</td>\n",
       "      <td>1.126488e+06</td>\n",
       "      <td>1.137162e+05</td>\n",
       "      <td>6.877995e+04</td>\n",
       "      <td>11.837448</td>\n",
       "      <td>8.941022</td>\n",
       "      <td>4.264205</td>\n",
       "      <td>2802.882117</td>\n",
       "    </tr>\n",
       "    <tr>\n",
       "      <th>std</th>\n",
       "      <td>1.310565e+07</td>\n",
       "      <td>8.545222e+06</td>\n",
       "      <td>4.623124e+06</td>\n",
       "      <td>4.152240e+05</td>\n",
       "      <td>2.866449e+05</td>\n",
       "      <td>19.772774</td>\n",
       "      <td>13.295356</td>\n",
       "      <td>8.658955</td>\n",
       "      <td>4892.737014</td>\n",
       "    </tr>\n",
       "    <tr>\n",
       "      <th>min</th>\n",
       "      <td>0.000000e+00</td>\n",
       "      <td>0.000000e+00</td>\n",
       "      <td>1.000000e+00</td>\n",
       "      <td>-2.928600e+04</td>\n",
       "      <td>0.000000e+00</td>\n",
       "      <td>0.000000</td>\n",
       "      <td>0.000000</td>\n",
       "      <td>0.000000</td>\n",
       "      <td>0.000000</td>\n",
       "    </tr>\n",
       "    <tr>\n",
       "      <th>25%</th>\n",
       "      <td>4.949800e+04</td>\n",
       "      <td>4.487125e+04</td>\n",
       "      <td>2.110450e+04</td>\n",
       "      <td>3.080500e+03</td>\n",
       "      <td>1.023000e+03</td>\n",
       "      <td>0.910000</td>\n",
       "      <td>0.890000</td>\n",
       "      <td>0.460000</td>\n",
       "      <td>346.000000</td>\n",
       "    </tr>\n",
       "    <tr>\n",
       "      <th>50%</th>\n",
       "      <td>3.309410e+05</td>\n",
       "      <td>2.779775e+05</td>\n",
       "      <td>1.402900e+05</td>\n",
       "      <td>1.473800e+04</td>\n",
       "      <td>6.108500e+03</td>\n",
       "      <td>4.550000</td>\n",
       "      <td>3.690000</td>\n",
       "      <td>1.660000</td>\n",
       "      <td>1395.000000</td>\n",
       "    </tr>\n",
       "    <tr>\n",
       "      <th>75%</th>\n",
       "      <td>1.566604e+06</td>\n",
       "      <td>1.149392e+06</td>\n",
       "      <td>5.626125e+05</td>\n",
       "      <td>5.889850e+04</td>\n",
       "      <td>2.790375e+04</td>\n",
       "      <td>13.990000</td>\n",
       "      <td>10.660000</td>\n",
       "      <td>4.150000</td>\n",
       "      <td>3470.750000</td>\n",
       "    </tr>\n",
       "    <tr>\n",
       "      <th>max</th>\n",
       "      <td>1.714767e+08</td>\n",
       "      <td>1.099957e+08</td>\n",
       "      <td>6.442262e+07</td>\n",
       "      <td>7.185000e+06</td>\n",
       "      <td>5.190143e+06</td>\n",
       "      <td>180.780000</td>\n",
       "      <td>95.850000</td>\n",
       "      <td>84.930000</td>\n",
       "      <td>118759.000000</td>\n",
       "    </tr>\n",
       "  </tbody>\n",
       "</table>\n",
       "</div>"
      ],
      "text/plain": [
       "       total_vaccinations  people_vaccinated  people_fully_vaccinated  \\\n",
       "count        6.269000e+03       5.694000e+03             3.979000e+03   \n",
       "mean         3.442607e+06       2.468040e+06             1.126488e+06   \n",
       "std          1.310565e+07       8.545222e+06             4.623124e+06   \n",
       "min          0.000000e+00       0.000000e+00             1.000000e+00   \n",
       "25%          4.949800e+04       4.487125e+04             2.110450e+04   \n",
       "50%          3.309410e+05       2.779775e+05             1.402900e+05   \n",
       "75%          1.566604e+06       1.149392e+06             5.626125e+05   \n",
       "max          1.714767e+08       1.099957e+08             6.442262e+07   \n",
       "\n",
       "       daily_vaccinations_raw  daily_vaccinations  \\\n",
       "count            5.236000e+03        1.022200e+04   \n",
       "mean             1.137162e+05        6.877995e+04   \n",
       "std              4.152240e+05        2.866449e+05   \n",
       "min             -2.928600e+04        0.000000e+00   \n",
       "25%              3.080500e+03        1.023000e+03   \n",
       "50%              1.473800e+04        6.108500e+03   \n",
       "75%              5.889850e+04        2.790375e+04   \n",
       "max              7.185000e+06        5.190143e+06   \n",
       "\n",
       "       total_vaccinations_per_hundred  people_vaccinated_per_hundred  \\\n",
       "count                     6269.000000                    5694.000000   \n",
       "mean                        11.837448                       8.941022   \n",
       "std                         19.772774                      13.295356   \n",
       "min                          0.000000                       0.000000   \n",
       "25%                          0.910000                       0.890000   \n",
       "50%                          4.550000                       3.690000   \n",
       "75%                         13.990000                      10.660000   \n",
       "max                        180.780000                      95.850000   \n",
       "\n",
       "       people_fully_vaccinated_per_hundred  daily_vaccinations_per_million  \n",
       "count                          3979.000000                    10222.000000  \n",
       "mean                              4.264205                     2802.882117  \n",
       "std                               8.658955                     4892.737014  \n",
       "min                               0.000000                        0.000000  \n",
       "25%                               0.460000                      346.000000  \n",
       "50%                               1.660000                     1395.000000  \n",
       "75%                               4.150000                     3470.750000  \n",
       "max                              84.930000                   118759.000000  "
      ]
     },
     "execution_count": 4,
     "metadata": {},
     "output_type": "execute_result"
    }
   ],
   "source": [
    "df.describe()"
   ]
  },
  {
   "cell_type": "code",
   "execution_count": 5,
   "metadata": {},
   "outputs": [
    {
     "name": "stdout",
     "output_type": "stream",
     "text": [
      "<class 'pandas.core.frame.DataFrame'>\n",
      "RangeIndex: 10414 entries, 0 to 10413\n",
      "Data columns (total 15 columns):\n",
      " #   Column                               Non-Null Count  Dtype  \n",
      "---  ------                               --------------  -----  \n",
      " 0   country                              10414 non-null  object \n",
      " 1   iso_code                             10414 non-null  object \n",
      " 2   date                                 10414 non-null  object \n",
      " 3   total_vaccinations                   6269 non-null   float64\n",
      " 4   people_vaccinated                    5694 non-null   float64\n",
      " 5   people_fully_vaccinated              3979 non-null   float64\n",
      " 6   daily_vaccinations_raw               5236 non-null   float64\n",
      " 7   daily_vaccinations                   10222 non-null  float64\n",
      " 8   total_vaccinations_per_hundred       6269 non-null   float64\n",
      " 9   people_vaccinated_per_hundred        5694 non-null   float64\n",
      " 10  people_fully_vaccinated_per_hundred  3979 non-null   float64\n",
      " 11  daily_vaccinations_per_million       10222 non-null  float64\n",
      " 12  vaccines                             10414 non-null  object \n",
      " 13  source_name                          10414 non-null  object \n",
      " 14  source_website                       10414 non-null  object \n",
      "dtypes: float64(9), object(6)\n",
      "memory usage: 1.2+ MB\n"
     ]
    }
   ],
   "source": [
    "df.info()"
   ]
  },
  {
   "cell_type": "markdown",
   "metadata": {},
   "source": [
    "2.Create a random dataset of 30 elements with x and y variables using random function between 30 to 80 integers for x and 60 to 100 integers for y. Apply K- means clustering to cluster the data into 2 clusters. Plot the graph and display the result. Use Tkinter GUI to Display the Results"
   ]
  },
  {
   "cell_type": "code",
   "execution_count": 12,
   "metadata": {},
   "outputs": [
    {
     "name": "stdout",
     "output_type": "stream",
     "text": [
      "     X   Y\n",
      "0   72  88\n",
      "1   74  94\n",
      "2   59  61\n",
      "3   76  65\n",
      "4   54  61\n",
      "5   45  66\n",
      "6   33  70\n",
      "7   38  72\n",
      "8   33  96\n",
      "9   66  85\n",
      "10  60  76\n",
      "11  43  69\n",
      "12  75  90\n",
      "13  64  71\n",
      "14  47  85\n",
      "15  65  85\n",
      "16  77  78\n",
      "17  32  71\n",
      "18  79  89\n",
      "19  39  72\n",
      "20  39  64\n",
      "21  68  64\n",
      "22  68  70\n",
      "23  37  76\n",
      "24  44  89\n",
      "25  64  75\n",
      "26  65  97\n",
      "27  76  74\n",
      "28  47  61\n",
      "29  31  93\n"
     ]
    }
   ],
   "source": [
    "import numpy as np\n",
    "from pandas import DataFrame\n",
    "Data={'X' : np.random.randint(30,80,30),\n",
    "'Y' : np.random.randint(60,100,30)}\n",
    "df = DataFrame(Data,columns=['X','Y'])\n",
    "print(df)"
   ]
  },
  {
   "cell_type": "code",
   "execution_count": 9,
   "metadata": {},
   "outputs": [
    {
     "name": "stdout",
     "output_type": "stream",
     "text": [
      "[[59.21052632 91.84210526]\n",
      " [48.54545455 67.63636364]]\n"
     ]
    },
    {
     "data": {
      "image/png": "[encoded data removed]",
      "text/plain": [
       "<Figure size 432x288 with 1 Axes>"
      ]
     },
     "metadata": {
      "needs_background": "light"
     },
     "output_type": "display_data"
    }
   ],
   "source": [
    "import matplotlib.pyplot as plt\n",
    "from sklearn.cluster import KMeans\n",
    "\n",
    "\n",
    "kmeans = KMeans(n_clusters=2).fit(df)\n",
    "centroids = kmeans.cluster_centers_\n",
    "print(centroids)\n",
    "\n",
    "plt.scatter(df['X'], df['Y'], c= kmeans.labels_.astype(float), s=50, alpha=0.5)\n",
    "plt.scatter(centroids[:, 0], centroids[:, 1], c='red', s=50)\n",
    "plt.show()"
   ]
  },
  {
   "cell_type": "code",
   "execution_count": 13,
   "metadata": {},
   "outputs": [],
   "source": [
    "import tkinter as tk\n",
    "from matplotlib.backends.backend_tkagg import FigureCanvasTkAgg\n",
    "  \n",
    "\n",
    "root= tk.Tk()\n",
    "\n",
    "canvas1 = tk.Canvas(root, width = 100, height = 100)\n",
    "canvas1.pack()\n",
    "\n",
    "label1 = tk.Label(root, text=centroids, justify = 'center')\n",
    "canvas1.create_window(70, 50, window=label1)\n",
    "\n",
    "figure1 = plt.Figure(figsize=(5,4), dpi=100)\n",
    "ax1 = figure1.add_subplot(111)\n",
    "ax1.scatter(df['X'], df['Y'], c= kmeans.labels_.astype(float), s=50, alpha=0.5)\n",
    "ax1.scatter(centroids[:, 0], centroids[:, 1], c='red', s=50)\n",
    "scatter1 = FigureCanvasTkAgg(figure1, root) \n",
    "scatter1.get_tk_widget().pack(side=tk.LEFT, fill=tk.BOTH)\n",
    "\n",
    "root.mainloop()"
   ]
  },
  {
   "cell_type": "code",
   "execution_count": null,
   "metadata": {},
   "outputs": [],
   "source": []
  }
 ],
 "metadata": {
  "kernelspec": {
   "display_name": "Python 3",
   "language": "python",
   "name": "python3"
  },
  "language_info": {
   "codemirror_mode": {
    "name": "ipython",
    "version": 3
   },
   "file_extension": ".py",
   "mimetype": "text/x-python",
   "name": "python",
   "nbconvert_exporter": "python",
   "pygments_lexer": "ipython3",
   "version": "3.8.3"
  }
 },
 "nbformat": 4,
 "nbformat_minor": 4
}
